{
 "cells": [
  {
   "cell_type": "code",
   "execution_count": null,
   "metadata": {},
   "outputs": [],
   "source": []
  },
  {
   "cell_type": "code",
   "execution_count": 1,
   "metadata": {},
   "outputs": [
    {
     "name": "stdout",
     "output_type": "stream",
     "text": [
      "Overwriting app.py\n"
     ]
    }
   ],
   "source": [
    "%%writefile app.py\n",
    "import os\n",
    "import streamlit as st\n",
    "# chatモデル\n",
    "from langchain_openai import ChatOpenAI\n",
    "# 人間がaiに送るメッセージとaiの初期設定のメッセージ\n",
    "from langchain.schema import HumanMessage, SystemMessage\n",
    "\n",
    "# api_keyの設定\n",
    "os.environ[\"OPENAI_API_KEY\"] = st.secrets.OpenAIAPI.openai_api_key\n",
    "\n",
    "# モデルのインスタンスの生成\n",
    "chat = ChatOpenAI(model=\"gpt-3.5-turbo-0125\")\n",
    "\n",
    "# st.session_stateにメッセージのやり取りを保存\n",
    "if \"messages\" not in st.session_state:\n",
    "    st.session_state[\"messages\"] = [\n",
    "        # aiの初期設定\n",
    "        SystemMessage(\n",
    "            content = \"\"\"\n",
    "            あなたは優秀でストレスマネージメントに詳しい臨床心理士です。\n",
    "            ユーザーが直面している問題やストレスを丁寧に聞き取り、共感的かつ専門的なアドバイスを提供します。\n",
    "            共感も大事ですが、アドバイスはストレスマネージメント、アサーション、レジリエンス、認知行動療法などの専門的な知識からも行ってください。\n",
    "            ユーザーの話に耳を傾け、非判断的で支持的な態度を保ちながら、具体的なストレス管理のテクニックやアプローチを提案してください。\n",
    "            また、適切な質問を通じて、ユーザーが自分自身の気持ちや状況をより深く理解できるように導いてください。\n",
    "            しかし、以下のような行動や態度は絶対に避けてください。\n",
    "            ・ユーザーの感情や経験を軽視すること\n",
    "            ・断定的な意見を押し付けること\n",
    "            ・すぐに解決策を提供しようとすること\n",
    "            ・共感ではなく、同情を示すこと\n",
    "            ・一方的に話すことやユーザーの話を遮ること\n",
    "            ・ステレオタイプなアドバイスを繰り返すこと\n",
    "            ・ユーザーのプライバシーを無視すること\n",
    "            \"\"\"\n",
    "        )\n",
    "    ]\n",
    "\n",
    "# llmとやり取りをする関数\n",
    "def communicate():\n",
    "    message = st.session_state[\"messages\"]\n",
    "\n",
    "    # 人間からaiに送るmessage\n",
    "    user_message = HumanMessage(\n",
    "        # userからの入力になる\n",
    "        content = st.session_state[\"user_input\"]\n",
    "    )\n",
    "\n",
    "    # messagesにuserからの入力を追加する\n",
    "    messages.append(user_message)\n",
    "    # モデルにここまでのmessagesを渡す\n",
    "    response = chat(messages)\n",
    "    # messagesにaiからの返答を追加\n",
    "    messages.append(response)\n",
    "    # 次のやり取りのために入力欄を空にする\n",
    "    st.session_state[\"user_input\"] = \"\"\n",
    "\n",
    "# ユーザーインターフェースの構築\n",
    "st.title(\"AI 心理カウンセラー\")\n",
    "st.write(\"最終更新日: 2024/5/23\")\n",
    "st.write(\"LangChainで作成したchatbot形式のAI心理カウンセラーです。\")\n",
    "\n",
    "# 入力ホーム\n",
    "# keyでcommunicate関数のuser_inputと紐づける\n",
    "# on_changeでcommunicate関数と紐づけて、入力内容が変更された場合はcommunicate関数を実行してもらうようにする\n",
    "user_input = st.text_input(\"どんなことに困っていますか？\", key=\"user_input\", on_change=communicate)\n",
    "\n",
    "# session_stateにmessageがあればそれを表示する\n",
    "if st.session_state[\"messages\"]:\n",
    "    messages = st.session_state[\"messages\"]\n",
    "\n",
    "    # 直近のメッセージを一番上にする\n",
    "    # 一番最初のaiのmessageは除外する\n",
    "    for message in reversed(messages[1:]):\n",
    "        # 人間のアイコン\n",
    "        speaker = \"😖\"\n",
    "        # aiのアイコン\n",
    "        if message.type == \"ai\":\n",
    "            speaker = \"🤖\"\n",
    "        # messageの出力\n",
    "        st.write(speaker + \": \" + message.content)"
   ]
  },
  {
   "cell_type": "code",
   "execution_count": 2,
   "metadata": {},
   "outputs": [],
   "source": [
    "import streamlit\n",
    "import langchain\n",
    "import langchain_openai"
   ]
  },
  {
   "cell_type": "code",
   "execution_count": 3,
   "metadata": {},
   "outputs": [
    {
     "name": "stdout",
     "output_type": "stream",
     "text": [
      "1.33.0\n",
      "0.1.20\n"
     ]
    }
   ],
   "source": [
    "print(streamlit.__version__)\n",
    "print(langchain.__version__)\n",
    "# print(langchain-openai.__version__)"
   ]
  },
  {
   "cell_type": "markdown",
   "metadata": {},
   "source": [
    "## requirements.txtの作成"
   ]
  },
  {
   "cell_type": "code",
   "execution_count": 4,
   "metadata": {},
   "outputs": [
    {
     "name": "stdout",
     "output_type": "stream",
     "text": [
      "Overwriting requirements.txt\n"
     ]
    }
   ],
   "source": [
    "%%writefile requirements.txt\n",
    "streamlit==1.33.0\n",
    "langchain==0.1.20\n",
    "langchain-openai"
   ]
  },
  {
   "cell_type": "code",
   "execution_count": null,
   "metadata": {},
   "outputs": [],
   "source": []
  },
  {
   "cell_type": "code",
   "execution_count": null,
   "metadata": {},
   "outputs": [],
   "source": []
  },
  {
   "cell_type": "code",
   "execution_count": null,
   "metadata": {},
   "outputs": [],
   "source": []
  },
  {
   "cell_type": "code",
   "execution_count": null,
   "metadata": {},
   "outputs": [],
   "source": []
  },
  {
   "cell_type": "code",
   "execution_count": null,
   "metadata": {},
   "outputs": [],
   "source": []
  },
  {
   "cell_type": "code",
   "execution_count": null,
   "metadata": {},
   "outputs": [],
   "source": []
  }
 ],
 "metadata": {
  "kernelspec": {
   "display_name": "py_310_streamlit",
   "language": "python",
   "name": "python3"
  },
  "language_info": {
   "codemirror_mode": {
    "name": "ipython",
    "version": 3
   },
   "file_extension": ".py",
   "mimetype": "text/x-python",
   "name": "python",
   "nbconvert_exporter": "python",
   "pygments_lexer": "ipython3",
   "version": "3.10.14"
  }
 },
 "nbformat": 4,
 "nbformat_minor": 2
}
